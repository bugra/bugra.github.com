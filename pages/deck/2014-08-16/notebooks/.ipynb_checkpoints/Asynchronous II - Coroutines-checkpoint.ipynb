{
 "metadata": {
  "name": "",
  "signature": "sha256:3a23eff5d6877643ca8b2f2b0058def6e5fbb12c3c920803bc665a4d6399aede"
 },
 "nbformat": 3,
 "nbformat_minor": 0,
 "worksheets": [
  {
   "cells": [
    {
     "cell_type": "code",
     "collapsed": false,
     "input": [
      "import asyncio\n",
      "import time"
     ],
     "language": "python",
     "metadata": {},
     "outputs": [],
     "prompt_number": 8
    },
    {
     "cell_type": "code",
     "collapsed": false,
     "input": [
      "sleep_time = 1.\n",
      "def i_am_not_a_coroutine():\n",
      "    for ii in range(1, 31):\n",
      "        if ii % 10 == 0: \n",
      "            print('I am not a coroutine :(')\n",
      "        time.sleep(sleep_time)\n",
      "        print('I  slept {} seconds'.format(sleep_time))\n",
      "start = time.perf_counter()            \n",
      "i_am_not_a_coroutine()        \n",
      "print('It has been {}'.format(time.perf_counter() - start))"
     ],
     "language": "python",
     "metadata": {},
     "outputs": [
      {
       "output_type": "stream",
       "stream": "stdout",
       "text": [
        "I  slept 1.0 seconds\n",
        "I  slept 1.0 seconds"
       ]
      },
      {
       "output_type": "stream",
       "stream": "stdout",
       "text": [
        "\n",
        "I  slept 1.0 seconds"
       ]
      },
      {
       "output_type": "stream",
       "stream": "stdout",
       "text": [
        "\n",
        "I  slept 1.0 seconds"
       ]
      },
      {
       "output_type": "stream",
       "stream": "stdout",
       "text": [
        "\n",
        "I  slept 1.0 seconds"
       ]
      },
      {
       "output_type": "stream",
       "stream": "stdout",
       "text": [
        "\n",
        "I  slept 1.0 seconds"
       ]
      },
      {
       "output_type": "stream",
       "stream": "stdout",
       "text": [
        "\n",
        "I  slept 1.0 seconds"
       ]
      },
      {
       "output_type": "stream",
       "stream": "stdout",
       "text": [
        "\n",
        "I  slept 1.0 seconds"
       ]
      },
      {
       "output_type": "stream",
       "stream": "stdout",
       "text": [
        "\n",
        "I  slept 1.0 seconds"
       ]
      },
      {
       "output_type": "stream",
       "stream": "stdout",
       "text": [
        "\n",
        "I am not a coroutine :(\n",
        "I  slept 1.0 seconds"
       ]
      },
      {
       "output_type": "stream",
       "stream": "stdout",
       "text": [
        "\n",
        "I  slept 1.0 seconds"
       ]
      },
      {
       "output_type": "stream",
       "stream": "stdout",
       "text": [
        "\n",
        "I  slept 1.0 seconds"
       ]
      },
      {
       "output_type": "stream",
       "stream": "stdout",
       "text": [
        "\n",
        "I  slept 1.0 seconds"
       ]
      },
      {
       "output_type": "stream",
       "stream": "stdout",
       "text": [
        "\n",
        "I  slept 1.0 seconds"
       ]
      },
      {
       "output_type": "stream",
       "stream": "stdout",
       "text": [
        "\n",
        "I  slept 1.0 seconds"
       ]
      },
      {
       "output_type": "stream",
       "stream": "stdout",
       "text": [
        "\n",
        "I  slept 1.0 seconds"
       ]
      },
      {
       "output_type": "stream",
       "stream": "stdout",
       "text": [
        "\n",
        "I  slept 1.0 seconds"
       ]
      },
      {
       "output_type": "stream",
       "stream": "stdout",
       "text": [
        "\n",
        "I  slept 1.0 seconds"
       ]
      },
      {
       "output_type": "stream",
       "stream": "stdout",
       "text": [
        "\n",
        "I  slept 1.0 seconds"
       ]
      },
      {
       "output_type": "stream",
       "stream": "stdout",
       "text": [
        "\n",
        "I am not a coroutine :(\n",
        "I  slept 1.0 seconds"
       ]
      },
      {
       "output_type": "stream",
       "stream": "stdout",
       "text": [
        "\n",
        "I  slept 1.0 seconds"
       ]
      },
      {
       "output_type": "stream",
       "stream": "stdout",
       "text": [
        "\n",
        "I  slept 1.0 seconds"
       ]
      },
      {
       "output_type": "stream",
       "stream": "stdout",
       "text": [
        "\n",
        "I  slept 1.0 seconds"
       ]
      },
      {
       "output_type": "stream",
       "stream": "stdout",
       "text": [
        "\n",
        "I  slept 1.0 seconds"
       ]
      },
      {
       "output_type": "stream",
       "stream": "stdout",
       "text": [
        "\n",
        "I  slept 1.0 seconds"
       ]
      },
      {
       "output_type": "stream",
       "stream": "stdout",
       "text": [
        "\n",
        "I  slept 1.0 seconds"
       ]
      },
      {
       "output_type": "stream",
       "stream": "stdout",
       "text": [
        "\n",
        "I  slept 1.0 seconds"
       ]
      },
      {
       "output_type": "stream",
       "stream": "stdout",
       "text": [
        "\n",
        "I  slept 1.0 seconds"
       ]
      },
      {
       "output_type": "stream",
       "stream": "stdout",
       "text": [
        "\n",
        "I  slept 1.0 seconds"
       ]
      },
      {
       "output_type": "stream",
       "stream": "stdout",
       "text": [
        "\n",
        "It has been 29.046112372000152\n"
       ]
      }
     ]
    },
    {
     "cell_type": "code",
     "collapsed": false,
     "input": [
      "@asyncio.coroutine\n",
      "def i_am_a_coroutine():\n",
      "    for ii in range(1, 31):\n",
      "        print('I  slept {} seconds'.format(sleep_time))\n",
      "        if ii % 10 == 0: \n",
      "            print('I am a coroutine!')\n",
      "        yield from asyncio.sleep(sleep_time)\n",
      "start = time.perf_counter()            \n",
      "new_loop = asyncio.get_event_loop()\n",
      "f = asyncio.wait([i_am_a_coroutine() for _ in range(10)]) # Put 10 coroutines in a sequence \n",
      "new_loop.run_until_complete(f) # Run\n",
      "print('It has been {}'.format(time.perf_counter() - start))"
     ],
     "language": "python",
     "metadata": {},
     "outputs": [
      {
       "output_type": "stream",
       "stream": "stdout",
       "text": [
        "I  slept 1.0 seconds\n",
        "I  slept 1.0 seconds\n",
        "I  slept 1.0 seconds\n",
        "I  slept 1.0 seconds\n",
        "I  slept 1.0 seconds\n",
        "I  slept 1.0 seconds\n",
        "I  slept 1.0 seconds\n",
        "I  slept 1.0 seconds\n",
        "I  slept 1.0 seconds\n",
        "I  slept 1.0 seconds\n",
        "I  slept 1.0 seconds"
       ]
      },
      {
       "output_type": "stream",
       "stream": "stdout",
       "text": [
        "\n",
        "I  slept 1.0 seconds\n",
        "I  slept 1.0 seconds\n",
        "I  slept 1.0 seconds\n",
        "I  slept 1.0 seconds\n",
        "I  slept 1.0 seconds\n",
        "I  slept 1.0 seconds\n",
        "I  slept 1.0 seconds\n",
        "I  slept 1.0 seconds\n",
        "I  slept 1.0 seconds\n",
        "I  slept 1.0 seconds"
       ]
      },
      {
       "output_type": "stream",
       "stream": "stdout",
       "text": [
        "\n",
        "I  slept 1.0 seconds\n",
        "I  slept 1.0 seconds\n",
        "I  slept 1.0 seconds\n",
        "I  slept 1.0 seconds\n",
        "I  slept 1.0 seconds\n",
        "I  slept 1.0 seconds\n",
        "I  slept 1.0 seconds\n",
        "I  slept 1.0 seconds\n",
        "I  slept 1.0 seconds\n",
        "I  slept 1.0 seconds"
       ]
      },
      {
       "output_type": "stream",
       "stream": "stdout",
       "text": [
        "\n",
        "I  slept 1.0 seconds\n",
        "I  slept 1.0 seconds\n",
        "I  slept 1.0 seconds\n",
        "I  slept 1.0 seconds\n",
        "I  slept 1.0 seconds\n",
        "I  slept 1.0 seconds\n",
        "I  slept 1.0 seconds\n",
        "I  slept 1.0 seconds\n",
        "I  slept 1.0 seconds\n",
        "I  slept 1.0 seconds"
       ]
      },
      {
       "output_type": "stream",
       "stream": "stdout",
       "text": [
        "\n",
        "I  slept 1.0 seconds\n",
        "I  slept 1.0 seconds\n",
        "I  slept 1.0 seconds\n",
        "I  slept 1.0 seconds\n",
        "I  slept 1.0 seconds\n",
        "I  slept 1.0 seconds\n",
        "I  slept 1.0 seconds\n",
        "I  slept 1.0 seconds\n",
        "I  slept 1.0 seconds\n",
        "I  slept 1.0 seconds"
       ]
      },
      {
       "output_type": "stream",
       "stream": "stdout",
       "text": [
        "\n",
        "I  slept 1.0 seconds\n",
        "I  slept 1.0 seconds\n",
        "I  slept 1.0 seconds\n",
        "I  slept 1.0 seconds\n",
        "I  slept 1.0 seconds\n",
        "I  slept 1.0 seconds\n",
        "I  slept 1.0 seconds\n",
        "I  slept 1.0 seconds\n",
        "I  slept 1.0 seconds\n",
        "I  slept 1.0 seconds"
       ]
      },
      {
       "output_type": "stream",
       "stream": "stdout",
       "text": [
        "\n",
        "I  slept 1.0 seconds\n",
        "I  slept 1.0 seconds\n",
        "I  slept 1.0 seconds\n",
        "I  slept 1.0 seconds\n",
        "I  slept 1.0 seconds\n",
        "I  slept 1.0 seconds\n",
        "I  slept 1.0 seconds\n",
        "I  slept 1.0 seconds\n",
        "I  slept 1.0 seconds\n",
        "I  slept 1.0 seconds"
       ]
      },
      {
       "output_type": "stream",
       "stream": "stdout",
       "text": [
        "\n",
        "I  slept 1.0 seconds\n",
        "I  slept 1.0 seconds\n",
        "I  slept 1.0 seconds\n",
        "I  slept 1.0 seconds\n",
        "I  slept 1.0 seconds\n",
        "I  slept 1.0 seconds\n",
        "I  slept 1.0 seconds\n",
        "I  slept 1.0 seconds\n",
        "I  slept 1.0 seconds\n",
        "I  slept 1.0 seconds"
       ]
      },
      {
       "output_type": "stream",
       "stream": "stdout",
       "text": [
        "\n",
        "I  slept 1.0 seconds\n",
        "I  slept 1.0 seconds\n",
        "I  slept 1.0 seconds\n",
        "I  slept 1.0 seconds\n",
        "I  slept 1.0 seconds\n",
        "I  slept 1.0 seconds\n",
        "I  slept 1.0 seconds\n",
        "I  slept 1.0 seconds\n",
        "I  slept 1.0 seconds\n",
        "I  slept 1.0 seconds"
       ]
      },
      {
       "output_type": "stream",
       "stream": "stdout",
       "text": [
        "\n",
        "I am a coroutine!\n",
        "I  slept 1.0 seconds\n",
        "I am a coroutine!\n",
        "I  slept 1.0 seconds\n",
        "I am a coroutine!\n",
        "I  slept 1.0 seconds\n",
        "I am a coroutine!\n",
        "I  slept 1.0 seconds\n",
        "I am a coroutine!\n",
        "I  slept 1.0 seconds\n",
        "I am a coroutine!\n",
        "I  slept 1.0 seconds\n",
        "I am a coroutine!\n",
        "I  slept 1.0 seconds\n",
        "I am a coroutine!\n",
        "I  slept 1.0 seconds\n",
        "I am a coroutine!\n",
        "I  slept 1.0 seconds\n",
        "I am a coroutine!\n",
        "I  slept 1.0 seconds"
       ]
      },
      {
       "output_type": "stream",
       "stream": "stdout",
       "text": [
        "\n",
        "I  slept 1.0 seconds\n",
        "I  slept 1.0 seconds\n",
        "I  slept 1.0 seconds\n",
        "I  slept 1.0 seconds\n",
        "I  slept 1.0 seconds\n",
        "I  slept 1.0 seconds\n",
        "I  slept 1.0 seconds\n",
        "I  slept 1.0 seconds\n",
        "I  slept 1.0 seconds\n",
        "I  slept 1.0 seconds"
       ]
      },
      {
       "output_type": "stream",
       "stream": "stdout",
       "text": [
        "\n",
        "I  slept 1.0 seconds\n",
        "I  slept 1.0 seconds\n",
        "I  slept 1.0 seconds\n",
        "I  slept 1.0 seconds\n",
        "I  slept 1.0 seconds\n",
        "I  slept 1.0 seconds\n",
        "I  slept 1.0 seconds\n",
        "I  slept 1.0 seconds\n",
        "I  slept 1.0 seconds\n",
        "I  slept 1.0 seconds"
       ]
      },
      {
       "output_type": "stream",
       "stream": "stdout",
       "text": [
        "\n",
        "I  slept 1.0 seconds\n",
        "I  slept 1.0 seconds\n",
        "I  slept 1.0 seconds\n",
        "I  slept 1.0 seconds\n",
        "I  slept 1.0 seconds\n",
        "I  slept 1.0 seconds\n",
        "I  slept 1.0 seconds\n",
        "I  slept 1.0 seconds\n",
        "I  slept 1.0 seconds\n",
        "I  slept 1.0 seconds"
       ]
      },
      {
       "output_type": "stream",
       "stream": "stdout",
       "text": [
        "\n",
        "I  slept 1.0 seconds\n",
        "I  slept 1.0 seconds\n",
        "I  slept 1.0 seconds\n",
        "I  slept 1.0 seconds\n",
        "I  slept 1.0 seconds\n",
        "I  slept 1.0 seconds\n",
        "I  slept 1.0 seconds\n",
        "I  slept 1.0 seconds\n",
        "I  slept 1.0 seconds\n",
        "I  slept 1.0 seconds"
       ]
      },
      {
       "output_type": "stream",
       "stream": "stdout",
       "text": [
        "\n",
        "I  slept 1.0 seconds\n",
        "I  slept 1.0 seconds\n",
        "I  slept 1.0 seconds\n",
        "I  slept 1.0 seconds\n",
        "I  slept 1.0 seconds\n",
        "I  slept 1.0 seconds\n",
        "I  slept 1.0 seconds\n",
        "I  slept 1.0 seconds\n",
        "I  slept 1.0 seconds\n",
        "I  slept 1.0 seconds"
       ]
      },
      {
       "output_type": "stream",
       "stream": "stdout",
       "text": [
        "\n",
        "I  slept 1.0 seconds\n",
        "I  slept 1.0 seconds\n",
        "I  slept 1.0 seconds\n",
        "I  slept 1.0 seconds\n",
        "I  slept 1.0 seconds\n",
        "I  slept 1.0 seconds\n",
        "I  slept 1.0 seconds\n",
        "I  slept 1.0 seconds\n",
        "I  slept 1.0 seconds\n",
        "I  slept 1.0 seconds"
       ]
      },
      {
       "output_type": "stream",
       "stream": "stdout",
       "text": [
        "\n",
        "I  slept 1.0 seconds\n",
        "I  slept 1.0 seconds\n",
        "I  slept 1.0 seconds\n",
        "I  slept 1.0 seconds\n",
        "I  slept 1.0 seconds\n",
        "I  slept 1.0 seconds\n",
        "I  slept 1.0 seconds\n",
        "I  slept 1.0 seconds\n",
        "I  slept 1.0 seconds\n",
        "I  slept 1.0 seconds"
       ]
      },
      {
       "output_type": "stream",
       "stream": "stdout",
       "text": [
        "\n",
        "I  slept 1.0 seconds\n",
        "I  slept 1.0 seconds\n",
        "I  slept 1.0 seconds\n",
        "I  slept 1.0 seconds\n",
        "I  slept 1.0 seconds\n",
        "I  slept 1.0 seconds\n",
        "I  slept 1.0 seconds\n",
        "I  slept 1.0 seconds\n",
        "I  slept 1.0 seconds\n",
        "I  slept 1.0 seconds"
       ]
      },
      {
       "output_type": "stream",
       "stream": "stdout",
       "text": [
        "\n",
        "I  slept 1.0 seconds\n",
        "I  slept 1.0 seconds\n",
        "I  slept 1.0 seconds\n",
        "I  slept 1.0 seconds\n",
        "I  slept 1.0 seconds\n",
        "I  slept 1.0 seconds\n",
        "I  slept 1.0 seconds\n",
        "I  slept 1.0 seconds\n",
        "I  slept 1.0 seconds\n",
        "I  slept 1.0 seconds"
       ]
      }
     ]
    },
    {
     "cell_type": "code",
     "collapsed": false,
     "input": [],
     "language": "python",
     "metadata": {},
     "outputs": []
    }
   ],
   "metadata": {}
  }
 ]
}