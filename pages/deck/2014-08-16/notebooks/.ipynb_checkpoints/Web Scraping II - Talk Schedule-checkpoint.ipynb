{
 "metadata": {
  "name": "",
  "signature": "sha256:a99177bf8c997829c5b9b440273c095048863d5476a620d95c0839de3557d800"
 },
 "nbformat": 3,
 "nbformat_minor": 0,
 "worksheets": [
  {
   "cells": [
    {
     "cell_type": "code",
     "collapsed": false,
     "input": [
      "import requests\n",
      "from pyquery import PyQuery as pq"
     ],
     "language": "python",
     "metadata": {},
     "outputs": [],
     "prompt_number": 8
    },
    {
     "cell_type": "code",
     "collapsed": false,
     "input": [
      "schedule_url = 'http://pygotham.org/talks/schedule'"
     ],
     "language": "python",
     "metadata": {},
     "outputs": [],
     "prompt_number": 2
    },
    {
     "cell_type": "code",
     "collapsed": false,
     "input": [
      "r = requests.get(schedule_url)"
     ],
     "language": "python",
     "metadata": {},
     "outputs": [],
     "prompt_number": 3
    },
    {
     "cell_type": "code",
     "collapsed": false,
     "input": [
      "if r.ok and r.status_code == 200:\n",
      "    raw_html = r.text\n",
      "else:\n",
      "    raw_html = None"
     ],
     "language": "python",
     "metadata": {},
     "outputs": [],
     "prompt_number": 5
    },
    {
     "cell_type": "code",
     "collapsed": false,
     "input": [
      "raw_html"
     ],
     "language": "python",
     "metadata": {},
     "outputs": [
      {
       "metadata": {},
       "output_type": "pyout",
       "prompt_number": 7,
       "text": [
        "'<!DOCTYPE html>\\n\\n\\n<!-- paulirish.com/2008/conditional-stylesheets-vs-css-hacks-answer-neither/ -->\\n<!--[if lt IE 7]> <html class=\"no-js lt-ie9 lt-ie8 lt-ie7\" lang=\"en\"> <![endif]-->\\n<!--[if IE 7]>    <html class=\"no-js lt-ie9 lt-ie8\" lang=\"en\"> <![endif]-->\\n<!--[if IE 8]>    <html class=\"no-js lt-ie9\" lang=\"en\"> <![endif]-->\\n<!--[if gt IE 8]><!--> <html class=\"no-js\" lang=\"en\"> <!--<![endif]-->\\n\\n\\n  <head>\\n    \\n    <meta charset=\"utf-8\" />\\n    <meta http-equiv=\"X-UA-Compatible\" content=\"IE=edge,chrome=1\">\\n    <title>Talk Schedule - PyGotham 2014</title>\\n    \\n    <meta name=\"viewport\" content=\"width=device-width\" /><meta charset=\"utf-8\">\\n    \\n  \\n    \\n  \\n    <link rel=\"stylesheet\" href=\"/static/gen/css/foundation.min.css?897a9ed3\">\\n  \\n\\n  \\n\\n    \\n    \\n  \\n    \\n\\n  <link href=\"http://fonts.googleapis.com/css?family=Lato:400,700\" rel=\"stylesheet\">\\n\\n  \\n    <link rel=\"stylesheet\" href=\"/static/gen/css/screen.min.css?052a31ab\" media=\"screen, projection\">\\n  \\n  \\n    <link rel=\"stylesheet\" href=\"/static/gen/css/print.min.css?d41d8cd9\" media=\"print\">\\n  \\n\\n\\n    \\n      <script src=\"//cdnjs.cloudflare.com/ajax/libs/modernizr/2.7.1/modernizr.min.js\"></script>\\n    \\n\\n    \\n      \\n      <!-- IE Fix for HTML5 Tags -->\\n      <!--[if lt IE 9]>\\n        <script src=\"http://html5shiv.googlecode.com/svn/trunk/html5.js\"></script>\\n      <![endif]-->\\n      \\n    \\n\\n    \\n  </head>\\n  <body>\\n  \\n    \\n  <div id=\"wrapper\" class=\"\">\\n    \\n      <header>\\n        \\n          <nav class=\"top-bar\" data-topbar>\\n            <ul class=\"title-area\">\\n              <li class=\"name\">\\n                <h1><a href=\"/\">PyGotham 2014</a></h1>\\n              </li>\\n              <li class=\"toggle-topbar menu-icon\">\\n                <a href=\"#\"><span>Menu</span></a>\\n              </li>\\n            </ul>\\n\\n            <section class=\"top-bar-section\">\\n              <ul class=\"right\">\\n                <li class=\"about has-dropdown\">\\n                  <a href=\"#\">About</a>\\n                  <ul class=\"dropdown\">\\n                    <li><a href=\"/about/faq\">FAQ</a></li>\\n                    <li><a href=\"/about/code-of-conduct\">Code of Conduct</a></li>\\n                    <li><a href=\"/about/privacy-policy\">Privacy Policy</a></li>\\n                  </ul>\\n                </li>\\n                \\n                  <li class=\"events has-dropdown\">\\n                    <a href=\"#\">Events</a>\\n                    <ul class=\"dropdown\">\\n                      <li><a href=\"/talks\">Talk List</a></li>\\n                      <li><a href=\"/talks/schedule\">Talk Schedule</a></li>\\n                    </ul>\\n                  </li>\\n                \\n                <li class=\"speaking has-dropdown\">\\n                  <a href=\"#\">Speaking</a>\\n                  <ul class=\"dropdown\">\\n                    <li><a href=\"/talks/call-for-proposals\">Call for Proposals</a></li>\\n                    \\n                  </ul>\\n                </li>\\n                <li><a href=\"/venue\">Venue</a></li>\\n                <li class=\"sponsors has-dropdown\">\\n                  <a href=\"#\">Sponsors</a>\\n                  <ul class=\"dropdown\">\\n                    <li><a href=\"/sponsors\">Sponsors</a></li>\\n                    <li><a href=\"/sponsors/apply\">Apply to be a Sponsor</a></li>\\n                    <li><a href=\"/sponsors/prospectus\">Sponsorship Prospectus</a></li>\\n                  </ul>\\n                </li>\\n                <li><a href=\"http://bigapplepy.org\">Big Apple Py</a></li>\\n                <li class=\"registration has-dropdown\">\\n                  <a href=\"#\">Registration</a>\\n                  <ul class=\"dropdown\">\\n                    <li><a href=\"/registration/information\">Information</a></li>\\n                    \\n                      <li><a href=\"https://www.eventbrite.com/e/pygotham-2014-tickets-11579790465\">Register</a></li>\\n                    \\n                  </ul>\\n                </li>\\n                \\n                  <li class=\"login\">\\n                    <a href=\"/login\" class=\"button radius\">Log in</a>\\n                  </li>\\n                  <li class=\"register\">\\n                    <a href=\"/register\" class=\"button radius\">Sign up</a>\\n                  </li>\\n                \\n              </ul>\\n            </section>\\n          </nav>\\n        \\n      </header>\\n    \\n\\n    \\n      <div class=\"content\">\\n        \\n          \\n  \\n    \\n  \\n\\n        \\n\\n        \\n\\n        \\n  <div class=\"row\">\\n    <div class=\"large-12 columns\">\\n      <h1>Talk Schedule</h1>\\n\\n      \\n        <h3>August 16, 2014</h3>\\n\\n        <table class=\"schedule\">\\n          <thead>\\n            <tr>\\n              <th></th>\\n              \\n                <th>Room 701</th>\\n              \\n                <th>Room 702</th>\\n              \\n                <th>Room 704</th>\\n              \\n                <th>Room 705</th>\\n              \\n          </thead>\\n\\n          <tbody>\\n            \\n              <tr>\\n                <td class=\"time\">08:00 AM</td>\\n                \\n                  <td class=\"presentation slot-meal\" colspan=\"4\" rowspan=\"1\">\\n                    \\n                      <p>Registration &amp; Breakfast</p>\\n\\n                    \\n                  </td>\\n                \\n              </tr>\\n            \\n              <tr>\\n                <td class=\"time\">09:00 AM</td>\\n                \\n                  <td class=\"presentation slot-keynote\" colspan=\"4\" rowspan=\"1\">\\n                    \\n                      <p>Opening Statements &amp; Keynote (Hilary Mason)</p>\\n\\n                    \\n                  </td>\\n                \\n              </tr>\\n            \\n              <tr>\\n                <td class=\"time\">10:00 AM</td>\\n                \\n                  <td class=\"presentation slot-break\" colspan=\"4\" rowspan=\"1\">\\n                    \\n                      <p>Break</p>\\n\\n                    \\n                  </td>\\n                \\n              </tr>\\n            \\n              <tr>\\n                <td class=\"time\">10:15 AM</td>\\n                \\n                  <td class=\"presentation slot-talk\" colspan=\"1\" rowspan=\"2\">\\n                    \\n                      <a href=\"/talks/16\">\\n                        Python Apps and Docker\\n                      </a>\\n                      Matt Wright\\n                    \\n                  </td>\\n                \\n                  <td class=\"presentation slot-talk\" colspan=\"1\" rowspan=\"2\">\\n                    \\n                      <a href=\"/talks/59\">\\n                        Insight into the anatomy of a huge Python project\\n                      </a>\\n                      Thomas Hatch\\n                    \\n                  </td>\\n                \\n                  <td class=\"presentation slot-talk\" colspan=\"1\" rowspan=\"2\">\\n                    \\n                      <a href=\"/talks/8\">\\n                        Getting Rich with Comparison Methods\\n                      </a>\\n                      Matt Story\\n                    \\n                  </td>\\n                \\n                  <td class=\"presentation slot-talk\" colspan=\"1\" rowspan=\"1\">\\n                    \\n                      <a href=\"/talks/97\">\\n                        Games with Pygame\\n                      </a>\\n                      Patrick Thunstrom\\n                    \\n                  </td>\\n                \\n              </tr>\\n            \\n              <tr>\\n                <td class=\"time\">10:45 AM</td>\\n                \\n                  <td class=\"presentation slot-talk\" colspan=\"1\" rowspan=\"2\">\\n                    \\n                      <a href=\"/talks/51\">\\n                        Finding your &#34;Teaching Stack&#34;: tools for teaching Python from beginners to experts\\n                      </a>\\n                      Elliott Hauser\\n                    \\n                  </td>\\n                \\n              </tr>\\n            \\n              <tr>\\n                <td class=\"time\">11:00 AM</td>\\n                \\n                  <td class=\"presentation slot-talk\" colspan=\"1\" rowspan=\"2\">\\n                    \\n                      <a href=\"/talks/75\">\\n                        Customizable and SaaSy REST APIs\\n                      </a>\\n                      Juan Gutierrez\\n                    \\n                  </td>\\n                \\n                  <td class=\"presentation slot-talk\" colspan=\"1\" rowspan=\"2\">\\n                    \\n                      <a href=\"/talks/72\">\\n                        Bend Postgres to Your Pythonic Will\\n                      </a>\\n                      Wes Chow\\n                    \\n                  </td>\\n                \\n                  <td class=\"presentation slot-talk\" colspan=\"1\" rowspan=\"2\">\\n                    \\n                      <a href=\"/talks/98\">\\n                        High Technology for High Needs Students: A year of programming in the Bronx\\n                      </a>\\n                      Meg Winston Ray \\n                    \\n                  </td>\\n                \\n              </tr>\\n            \\n              <tr>\\n                <td class=\"time\">11:15 AM</td>\\n                \\n                  <td class=\"presentation slot-talk\" colspan=\"1\" rowspan=\"1\">\\n                    \\n                      <a href=\"/talks/73\">\\n                        How I Taught a 10-year-old to Love Python and Programming\\n                      </a>\\n                      Eric Matzner\\n                    \\n                  </td>\\n                \\n              </tr>\\n            \\n              <tr>\\n                <td class=\"time\">11:45 AM</td>\\n                \\n                  <td class=\"presentation slot-meal\" colspan=\"4\" rowspan=\"1\">\\n                    \\n                      <p>Lunch</p>\\n\\n                    \\n                  </td>\\n                \\n              </tr>\\n            \\n              <tr>\\n                <td class=\"time\">12:45 PM</td>\\n                \\n                  <td class=\"presentation slot-tutorial\" colspan=\"1\" rowspan=\"8\">\\n                    \\n                      <a href=\"/talks/64\">\\n                        Graph Analysis with Python\\n                      </a>\\n                      Adrian Heilbut\\n                    \\n                  </td>\\n                \\n                  <td class=\"presentation slot-talk\" colspan=\"1\" rowspan=\"1\">\\n                    \\n                      <a href=\"/talks/46\">\\n                        TSAR (the TimeSeries AggregatoR), - how to count tens of billions of daily events in real time using open source technologies\\n                      </a>\\n                      Anirudh Todi\\n                    \\n                  </td>\\n                \\n                  <td class=\"presentation slot-talk\" colspan=\"1\" rowspan=\"1\">\\n                    \\n                      <a href=\"/talks/103\">\\n                        Python Wats: Uncovering Odd Behavior\\n                      </a>\\n                      Amy Hanlon\\n                    \\n                  </td>\\n                \\n                  <td class=\"presentation slot-talk\" colspan=\"1\" rowspan=\"2\">\\n                    \\n                      <a href=\"/talks/2\">\\n                        Python as uniting programming language across computer graphics packages and 3D automated manufacturing\\n                      </a>\\n                      Rainer Schmidt\\n                    \\n                  </td>\\n                \\n              </tr>\\n            \\n              <tr>\\n                <td class=\"time\">01:15 PM</td>\\n                \\n                  <td class=\"presentation slot-talk\" colspan=\"1\" rowspan=\"2\">\\n                    \\n                      <a href=\"/talks/81\">\\n                        How I use Python to Fight human trafficking\\n                      </a>\\n                      Eric Schles\\n                    \\n                  </td>\\n                \\n                  <td class=\"presentation slot-talk\" colspan=\"1\" rowspan=\"2\">\\n                    \\n                      <a href=\"/talks/47\">\\n                        Helping Python Play Chess\\n                      </a>\\n                      Jarret Petrillo\\n                    \\n                  </td>\\n                \\n              </tr>\\n            \\n              <tr>\\n                <td class=\"time\">01:45 PM</td>\\n                \\n                  <td class=\"presentation slot-talk\" colspan=\"1\" rowspan=\"1\">\\n                    \\n                      <a href=\"/talks/92\">\\n                        Canonical sectors and evolutions of US stocks: an application of machine learning in Python\\n                      </a>\\n                      RICKY CHACHRA\\n                    \\n                  </td>\\n                \\n              </tr>\\n            \\n              <tr>\\n                <td class=\"time\">02:15 PM</td>\\n                \\n                  <td class=\"presentation slot-talk\" colspan=\"1\" rowspan=\"2\">\\n                    \\n                      <a href=\"/talks/79\">\\n                        Sparkling Pandas - using Apache Spark to scale Pandas\\n                      </a>\\n                      Holden Karau\\n                    \\n                  </td>\\n                \\n                  <td class=\"presentation slot-talk\" colspan=\"1\" rowspan=\"3\">\\n                    \\n                      <a href=\"/talks/11\">\\n                        Python in the Video Game Industry \u2013 Best Practices and Finding  Cheaters\\n                      </a>\\n                      Steve Lang\\n                    \\n                  </td>\\n                \\n                  <td class=\"presentation slot-talk\" colspan=\"1\" rowspan=\"1\">\\n                    \\n                      <a href=\"/talks/48\">\\n                        When should I call myself as an expert in Python?\\n                      </a>\\n                      akanksha shrivastava\\n                    \\n                  </td>\\n                \\n              </tr>\\n            \\n              <tr>\\n                <td class=\"time\">02:45 PM</td>\\n                \\n                  <td class=\"presentation slot-talk\" colspan=\"1\" rowspan=\"2\">\\n                    \\n                      <a href=\"/talks/26\">\\n                        Architectural evolution in startups\\n                      </a>\\n                      Martin Melin\\n                    \\n                  </td>\\n                \\n              </tr>\\n            \\n              <tr>\\n                <td class=\"time\">03:00 PM</td>\\n                \\n                  <td class=\"presentation slot-talk\" colspan=\"1\" rowspan=\"2\">\\n                    \\n                      <a href=\"/talks/54\">\\n                        SQLAlchemy and Race Conditions! Implementing `get_one_or_create()`\\n                      </a>\\n                      Erik Taubeneck\\n                    \\n                  </td>\\n                \\n              </tr>\\n            \\n              <tr>\\n                <td class=\"time\">03:15 PM</td>\\n                \\n                  <td class=\"presentation slot-talk\" colspan=\"1\" rowspan=\"2\">\\n                    \\n                      <a href=\"/talks/43\">\\n                        Harlem Election Rematch: Money and Demographics in the 13th\\n                      </a>\\n                      Haronil Estevez\\n                    \\n                  </td>\\n                \\n                  <td class=\"presentation slot-talk\" colspan=\"1\" rowspan=\"2\">\\n                    \\n                      <a href=\"/talks/29\">\\n                        MEDS: Malware Evolution Discovery System\\n                      </a>\\n                      Antonio Cesar Vargas\\n                    \\n                  </td>\\n                \\n              </tr>\\n            \\n              <tr>\\n                <td class=\"time\">03:30 PM</td>\\n                \\n                  <td class=\"presentation slot-talk\" colspan=\"1\" rowspan=\"2\">\\n                    \\n                      <a href=\"/talks/70\">\\n                        Python Begets Python:  Using BattleSchool, based on Ansible, plus Docker to Set up and Produce Working Software Faster on your Machine (Sat. 4.15pm)\\n                      </a>\\n                      Anne Moroney\\n                    \\n                  </td>\\n                \\n              </tr>\\n            \\n              <tr>\\n                <td class=\"time\">03:45 PM</td>\\n                \\n                  <td class=\"presentation slot-break\" colspan=\"3\" rowspan=\"2\">\\n                    \\n                  </td>\\n                \\n              </tr>\\n            \\n              <tr>\\n                <td class=\"time\">04:00 PM</td>\\n                \\n                  <td class=\"presentation slot-break\" colspan=\"1\" rowspan=\"1\">\\n                    \\n                  </td>\\n                \\n              </tr>\\n            \\n              <tr>\\n                <td class=\"time\">04:15 PM</td>\\n                \\n                  <td class=\"presentation slot-talk\" colspan=\"1\" rowspan=\"1\">\\n                    \\n                      <a href=\"/talks/67\">\\n                        you know nothing, server.\\n                      </a>\\n                      Jameson Lee\\n                    \\n                  </td>\\n                \\n                  <td class=\"presentation slot-talk\" colspan=\"1\" rowspan=\"1\">\\n                    \\n                      <a href=\"/talks/12\">\\n                        Using Python with an Ordered Key-Value Store\\n                      </a>\\n                      Stephen Pimentel\\n                    \\n                  </td>\\n                \\n                  <td class=\"presentation slot-talk\" colspan=\"1\" rowspan=\"1\">\\n                    \\n                      <a href=\"/talks/104\">\\n                        Preventing Data Flat-lining\\n                      </a>\\n                      Anna Smith\\n                    \\n                  </td>\\n                \\n                  <td class=\"presentation slot-talk\" colspan=\"1\" rowspan=\"2\">\\n                    \\n                      <a href=\"/talks/90\">\\n                        Big Data in Biology: A Case Study in Computational Proteomics with Python and MongoDB\\n                      </a>\\n                      Himanshu Grover\\n                    \\n                  </td>\\n                \\n              </tr>\\n            \\n              <tr>\\n                <td class=\"time\">04:45 PM</td>\\n                \\n                  <td class=\"presentation slot-talk\" colspan=\"1\" rowspan=\"4\">\\n                    \\n                      <a href=\"/talks/60\">\\n                        Asyncronous Web Scraping with Asyncio\\n                      </a>\\n                      Bugra Akyildiz\\n                    \\n                  </td>\\n                \\n                  <td class=\"presentation slot-talk\" colspan=\"1\" rowspan=\"2\">\\n                    \\n                      <a href=\"/talks/40\">\\n                        Web Scraping is BS\\n                      </a>\\n                      John Downs\\n                    \\n                  </td>\\n                \\n                  <td class=\"presentation slot-talk\" colspan=\"1\" rowspan=\"2\">\\n                    \\n                      <a href=\"/talks/106\">\\n                        One Gestalt to Rule Them All\\n                      </a>\\n                      Julie Steele\\n                    \\n                  </td>\\n                \\n              </tr>\\n            \\n              <tr>\\n                <td class=\"time\">05:00 PM</td>\\n                \\n                  <td class=\"presentation slot-talk\" colspan=\"1\" rowspan=\"2\">\\n                    \\n                      <a href=\"/talks/102\">\\n                        Bytes in the machine: inside the CPython interpreter\\n                      </a>\\n                      Allison Kaptur\\n                    \\n                  </td>\\n                \\n              </tr>\\n            \\n              <tr>\\n                <td class=\"time\">05:15 PM</td>\\n                \\n                  <td class=\"presentation slot-talk\" colspan=\"1\" rowspan=\"3\">\\n                    \\n                      <a href=\"/talks/88\">\\n                        Python for Curious People who Like Natural Language a Lot\\n                      </a>\\n                      Jackie Cohen\\n                    \\n                  </td>\\n                \\n                  <td class=\"presentation slot-talk\" colspan=\"1\" rowspan=\"2\">\\n                    \\n                      <a href=\"/talks/50\">\\n                        Monary: Really fast analysis with MongoDB and NumPy\\n                      </a>\\n                      Kyle Suarez\\n                    \\n                  </td>\\n                \\n              </tr>\\n            \\n              <tr>\\n                <td class=\"time\">05:30 PM</td>\\n                \\n                  <td class=\"presentation slot-talk\" colspan=\"1\" rowspan=\"2\">\\n                    \\n                      <a href=\"/talks/15\">\\n                        Aspect Oriented Programming with Proxy Objects\\n                      </a>\\n                      Silas Ray\\n                    \\n                  </td>\\n                \\n              </tr>\\n            \\n              <tr>\\n                <td class=\"time\">05:45 PM</td>\\n                \\n                  <td class=\"presentation slot-break\" colspan=\"2\" rowspan=\"1\">\\n                    \\n                  </td>\\n                \\n              </tr>\\n            \\n              <tr>\\n                <td class=\"time\">06:00 PM</td>\\n                \\n                  <td class=\"presentation slot-keynote\" colspan=\"4\" rowspan=\"1\">\\n                    \\n                      <p>Wrap Up &amp; Lightning Talks</p>\\n\\n                    \\n                  </td>\\n                \\n              </tr>\\n            \\n          </tbody>\\n        </table>\\n      \\n        <h3>August 17, 2014</h3>\\n\\n        <table class=\"schedule\">\\n          <thead>\\n            <tr>\\n              <th></th>\\n              \\n                <th>Room 701</th>\\n              \\n                <th>Room 702</th>\\n              \\n                <th>Room 704</th>\\n              \\n          </thead>\\n\\n          <tbody>\\n            \\n              <tr>\\n                <td class=\"time\">08:30 AM</td>\\n                \\n                  <td class=\"presentation slot-meal\" colspan=\"3\" rowspan=\"1\">\\n                    \\n                      <p>Breakfast</p>\\n\\n                    \\n                  </td>\\n                \\n              </tr>\\n            \\n              <tr>\\n                <td class=\"time\">09:00 AM</td>\\n                \\n                  <td class=\"presentation slot-talk\" colspan=\"1\" rowspan=\"2\">\\n                    \\n                      <a href=\"/talks/6\">\\n                        Why is Python So Fast?\\n                      </a>\\n                      Eric Chiang\\n                    \\n                  </td>\\n                \\n                  <td class=\"presentation slot-talk\" colspan=\"1\" rowspan=\"1\">\\n                    \\n                      <a href=\"/talks/87\">\\n                        What Problem Are You Trying to Solve, Anyway?\\n                      </a>\\n                      Alfred Lee\\n                    \\n                  </td>\\n                \\n                  <td class=\"presentation slot-talk\" colspan=\"1\" rowspan=\"2\">\\n                    \\n                      <a href=\"/talks/61\">\\n                        Speed without drag\\n                      </a>\\n                      Saul Diez-Guerra\\n                    \\n                  </td>\\n                \\n              </tr>\\n            \\n              <tr>\\n                <td class=\"time\">09:30 AM</td>\\n                \\n                  <td class=\"presentation slot-talk\" colspan=\"1\" rowspan=\"2\">\\n                    \\n                      <a href=\"/talks/76\">\\n                        Video, Python and FFmpeg: What you can do!\\n                      </a>\\n                      Dean Silfen\\n                    \\n                  </td>\\n                \\n              </tr>\\n            \\n              <tr>\\n                <td class=\"time\">09:45 AM</td>\\n                \\n                  <td class=\"presentation slot-talk\" colspan=\"1\" rowspan=\"2\">\\n                    \\n                      <a href=\"/talks/58\">\\n                        Failing With Grace\\n                      </a>\\n                      Sean O&#39;Connor\\n                    \\n                  </td>\\n                \\n                  <td class=\"presentation slot-talk\" colspan=\"1\" rowspan=\"3\">\\n                    \\n                      <a href=\"/talks/56\">\\n                        Building flexible tools to store sums and report on CSV data\\n                      </a>\\n                      Margery Harrison\\n                    \\n                  </td>\\n                \\n              </tr>\\n            \\n              <tr>\\n                <td class=\"time\">10:00 AM</td>\\n                \\n                  <td class=\"presentation slot-talk\" colspan=\"1\" rowspan=\"3\">\\n                    \\n                      <a href=\"/talks/10\">\\n                        Service Oriented Flask\\n                      </a>\\n                      Randall Degges\\n                    \\n                  </td>\\n                \\n              </tr>\\n            \\n              <tr>\\n                <td class=\"time\">10:30 AM</td>\\n                \\n                  <td class=\"presentation slot-talk\" colspan=\"1\" rowspan=\"2\">\\n                    \\n                      <a href=\"/talks/66\">\\n                        Incremental Non-Design: Fighting Entropy like Sisyphus\\n                      </a>\\n                      Paul Winkler\\n                    \\n                  </td>\\n                \\n              </tr>\\n            \\n              <tr>\\n                <td class=\"time\">10:45 AM</td>\\n                \\n                  <td class=\"presentation slot-talk\" colspan=\"1\" rowspan=\"2\">\\n                    \\n                      <a href=\"/talks/105\">\\n                        Pretty Pictures Please\\n                      </a>\\n                      Hannah Aizenmann\\n                    \\n                  </td>\\n                \\n              </tr>\\n            \\n              <tr>\\n                <td class=\"time\">11:00 AM</td>\\n                \\n                  <td class=\"presentation slot-talk\" colspan=\"1\" rowspan=\"1\">\\n                    \\n                      <a href=\"/talks/30\">\\n                        Decorators 101: A Gentle Introduction to Functional Programming\\n                      </a>\\n                      Jillian Munson\\n                    \\n                  </td>\\n                \\n                  <td class=\"presentation slot-talk\" colspan=\"1\" rowspan=\"1\">\\n                    \\n                      <a href=\"/talks/94\">\\n                        Caching up and down the stack in Django\\n                      </a>\\n                      James Meickle\\n                    \\n                  </td>\\n                \\n              </tr>\\n            \\n              <tr>\\n                <td class=\"time\">11:30 AM</td>\\n                \\n                  <td class=\"presentation slot-meal\" colspan=\"3\" rowspan=\"1\">\\n                    \\n                      <p>Lunch</p>\\n\\n                    \\n                  </td>\\n                \\n              </tr>\\n            \\n              <tr>\\n                <td class=\"time\">12:30 PM</td>\\n                \\n                  <td class=\"presentation slot-tutorial\" colspan=\"1\" rowspan=\"3\">\\n                    \\n                      <a href=\"/talks/107\">\\n                        Intro to SQLAlchemy\\n                      </a>\\n                      Mike Bayer\\n                    \\n                  </td>\\n                \\n                  <td class=\"presentation slot-talk\" colspan=\"1\" rowspan=\"1\">\\n                    \\n                      <a href=\"/talks/78\">\\n                        All That Is Solid Melts Into Air - Data and the Law\\n                      </a>\\n                      Benjamin Hayes\\n                    \\n                  </td>\\n                \\n                  <td class=\"presentation slot-talk\" colspan=\"1\" rowspan=\"1\">\\n                    \\n                      <a href=\"/talks/7\">\\n                        Enough Machine Learning to Make Hacker News Readable Again\\n                      </a>\\n                      Ned Jackson Lovely\\n                    \\n                  </td>\\n                \\n              </tr>\\n            \\n              <tr>\\n                <td class=\"time\">01:00 PM</td>\\n                \\n                  <td class=\"presentation slot-talk\" colspan=\"1\" rowspan=\"1\">\\n                    \\n                      <a href=\"/talks/86\">\\n                        Introduction to Profiling\\n                      </a>\\n                      Perrin Harkins\\n                    \\n                  </td>\\n                \\n                  <td class=\"presentation slot-talk\" colspan=\"1\" rowspan=\"1\">\\n                    \\n                      <a href=\"/talks/44\">\\n                        Statistics and Linear Regression Models with Python\\n                      </a>\\n                      Aaron Hall\\n                    \\n                  </td>\\n                \\n              </tr>\\n            \\n              <tr>\\n                <td class=\"time\">01:30 PM</td>\\n                \\n                  <td class=\"presentation slot-talk\" colspan=\"1\" rowspan=\"1\">\\n                    \\n                      <a href=\"/talks/3\">\\n                        How to write actually object-oriented python\\n                      </a>\\n                      Per Fagrell\\n                    \\n                  </td>\\n                \\n                  <td class=\"presentation slot-talk\" colspan=\"1\" rowspan=\"1\">\\n                    \\n                      <a href=\"/talks/49\">\\n                        Weather of The Century\\n                      </a>\\n                      J. Randall Hunt\\n                    \\n                  </td>\\n                \\n              </tr>\\n            \\n              <tr>\\n                <td class=\"time\">02:00 PM</td>\\n                \\n                  <td class=\"presentation slot-break\" colspan=\"3\" rowspan=\"1\">\\n                    \\n                      <p>Break</p>\\n\\n                    \\n                  </td>\\n                \\n              </tr>\\n            \\n              <tr>\\n                <td class=\"time\">02:30 PM</td>\\n                \\n                  <td class=\"presentation slot-tutorial\" colspan=\"1\" rowspan=\"4\">\\n                    \\n                      <p>Mike Bayer</p>\\n\\n                    \\n                  </td>\\n                \\n                  <td class=\"presentation slot-talk\" colspan=\"1\" rowspan=\"2\">\\n                    \\n                      <a href=\"/talks/53\">\\n                        Practical Approaches to Problems in the Financial Industry using Python\\n                      </a>\\n                      Andy Fundinger\\n                    \\n                  </td>\\n                \\n                  <td class=\"presentation slot-talk\" colspan=\"1\" rowspan=\"1\">\\n                    \\n                      <a href=\"/talks/34\">\\n                        Setting up your Python development environment in IPython\\n                      </a>\\n                      Daniel Kronovet\\n                    \\n                  </td>\\n                \\n              </tr>\\n            \\n              <tr>\\n                <td class=\"time\">03:00 PM</td>\\n                \\n                  <td class=\"presentation slot-talk\" colspan=\"1\" rowspan=\"2\">\\n                    \\n                      <a href=\"/talks/23\">\\n                        Python and Julia. Why do we need another language?\\n                      </a>\\n                      Dwight J. Browne\\n                    \\n                  </td>\\n                \\n              </tr>\\n            \\n              <tr>\\n                <td class=\"time\">03:15 PM</td>\\n                \\n                  <td class=\"presentation slot-talk\" colspan=\"1\" rowspan=\"2\">\\n                    \\n                      <a href=\"/talks/101\">\\n                        Debunking Other People&#39;s Data Science\\n                      </a>\\n                      Marianne Bellotti\\n                    \\n                  </td>\\n                \\n              </tr>\\n            \\n              <tr>\\n                <td class=\"time\">03:30 PM</td>\\n                \\n                  <td class=\"presentation slot-talk\" colspan=\"1\" rowspan=\"1\">\\n                    \\n                      <a href=\"/talks/100\">\\n                        PyParallel\\n                      </a>\\n                      Trent Nelson\\n                    \\n                  </td>\\n                \\n              </tr>\\n            \\n              <tr>\\n                <td class=\"time\">04:00 PM</td>\\n                \\n                  <td class=\"presentation slot-break\" colspan=\"3\" rowspan=\"1\">\\n                    \\n                      <p>Break</p>\\n\\n                    \\n                  </td>\\n                \\n              </tr>\\n            \\n              <tr>\\n                <td class=\"time\">04:15 PM</td>\\n                \\n                  <td class=\"presentation slot-keynote\" colspan=\"3\" rowspan=\"1\">\\n                    \\n                      <p>Closing Statements &amp; Keynote (Brandon Rhodes)</p>\\n\\n                    \\n                  </td>\\n                \\n              </tr>\\n            \\n          </tbody>\\n        </table>\\n      \\n    </div>\\n  </div>\\n\\n      </div>\\n\\n      \\n        <footer>\\n          <h4>PyGotham 2014</h4>\\n          <section class=\"credits\">\\n            PyGotham 2014 is a production of <a href=\"http://bigapplepy.org\">Big Apple Py</a>.<br>\\n            Design by <a href=\"http://sonjaleix.com\">Sonja Leix</a>. Hosting provided by <a href=\"http://www.rackspace.com\">Rackspace</a>.<br>\\n            Questions? Comments? Please contact <a href=\"mailto:pygotham@googlegroups.com\">pygotham@googlegroups.com</a>.<br>\\n          </section>\\n        </footer>\\n      \\n    \\n  </div>\\n\\n\\n    \\n  <script src=\"//cdnjs.cloudflare.com/ajax/libs/fastclick/0.6.11/fastclick.min.js\"></script>\\n  <script src=\"//ajax.googleapis.com/ajax/libs/jquery/2.1.0/jquery.min.js\"></script>\\n  <script src=\"//cdnjs.cloudflare.com/ajax/libs/jquery-cookie/1.4.0/jquery.cookie.min.js\"></script>\\n  <script src=\"//cdnjs.cloudflare.com/ajax/libs/jquery-placeholder/2.0.7/jquery.placeholder.min.js\"></script>\\n\\n  \\n    <script src=\"/static/gen/js/foundation.min.js?2bbd4644\"></script>\\n  \\n\\n    \\n    \\n  \\n\\n  \\n  </body>\\n\\n</html>'"
       ]
      }
     ],
     "prompt_number": 7
    },
    {
     "cell_type": "markdown",
     "metadata": {},
     "source": [
      "Such a mess!"
     ]
    },
    {
     "cell_type": "code",
     "collapsed": false,
     "input": [
      "pp = pq(raw_html)\n",
      "pp.text()"
     ],
     "language": "python",
     "metadata": {},
     "outputs": [],
     "prompt_number": 9
    },
    {
     "cell_type": "code",
     "collapsed": false,
     "input": [
      "talks = []\n",
      "for ii in pp('.slot-talk'):\n",
      "    title, _, presenter = str(ii.text_content()).strip().split('\\n')\n",
      "    talks.append((title.strip(), presenter.strip().title()))"
     ],
     "language": "python",
     "metadata": {},
     "outputs": [],
     "prompt_number": 72
    },
    {
     "cell_type": "code",
     "collapsed": false,
     "input": [
      "talks"
     ],
     "language": "python",
     "metadata": {},
     "outputs": [
      {
       "metadata": {},
       "output_type": "pyout",
       "prompt_number": 73,
       "text": [
        "[('Python Apps and Docker', 'Matt Wright'),\n",
        " ('Insight into the anatomy of a huge Python project', 'Thomas Hatch'),\n",
        " ('Getting Rich with Comparison Methods', 'Matt Story'),\n",
        " ('Games with Pygame', 'Patrick Thunstrom'),\n",
        " ('Finding your \"Teaching Stack\": tools for teaching Python from beginners to experts',\n",
        "  'Elliott Hauser'),\n",
        " ('Customizable and SaaSy REST APIs', 'Juan Gutierrez'),\n",
        " ('Bend Postgres to Your Pythonic Will', 'Wes Chow'),\n",
        " ('High Technology for High Needs Students: A year of programming in the Bronx',\n",
        "  'Meg Winston Ray'),\n",
        " ('How I Taught a 10-year-old to Love Python and Programming', 'Eric Matzner'),\n",
        " ('TSAR (the TimeSeries AggregatoR), - how to count tens of billions of daily events in real time using open source technologies',\n",
        "  'Anirudh Todi'),\n",
        " ('Python Wats: Uncovering Odd Behavior', 'Amy Hanlon'),\n",
        " ('Python as uniting programming language across computer graphics packages and 3D automated manufacturing',\n",
        "  'Rainer Schmidt'),\n",
        " ('How I use Python to Fight human trafficking', 'Eric Schles'),\n",
        " ('Helping Python Play Chess', 'Jarret Petrillo'),\n",
        " ('Canonical sectors and evolutions of US stocks: an application of machine learning in Python',\n",
        "  'Ricky Chachra'),\n",
        " ('Sparkling Pandas - using Apache Spark to scale Pandas', 'Holden Karau'),\n",
        " ('Python in the Video Game Industry \u2013 Best Practices and Finding  Cheaters',\n",
        "  'Steve Lang'),\n",
        " ('When should I call myself as an expert in Python?', 'Akanksha Shrivastava'),\n",
        " ('Architectural evolution in startups', 'Martin Melin'),\n",
        " ('SQLAlchemy and Race Conditions! Implementing `get_one_or_create()`',\n",
        "  'Erik Taubeneck'),\n",
        " ('Harlem Election Rematch: Money and Demographics in the 13th',\n",
        "  'Haronil Estevez'),\n",
        " ('MEDS: Malware Evolution Discovery System', 'Antonio Cesar Vargas'),\n",
        " ('Python Begets Python:  Using BattleSchool, based on Ansible, plus Docker to Set up and Produce Working Software Faster on your Machine (Sat. 4.15pm)',\n",
        "  'Anne Moroney'),\n",
        " ('you know nothing, server.', 'Jameson Lee'),\n",
        " ('Using Python with an Ordered Key-Value Store', 'Stephen Pimentel'),\n",
        " ('Preventing Data Flat-lining', 'Anna Smith'),\n",
        " ('Big Data in Biology: A Case Study in Computational Proteomics with Python and MongoDB',\n",
        "  'Himanshu Grover'),\n",
        " ('Asyncronous Web Scraping with Asyncio', 'Bugra Akyildiz'),\n",
        " ('Web Scraping is BS', 'John Downs'),\n",
        " ('One Gestalt to Rule Them All', 'Julie Steele'),\n",
        " ('Bytes in the machine: inside the CPython interpreter', 'Allison Kaptur'),\n",
        " ('Python for Curious People who Like Natural Language a Lot', 'Jackie Cohen'),\n",
        " ('Monary: Really fast analysis with MongoDB and NumPy', 'Kyle Suarez'),\n",
        " ('Aspect Oriented Programming with Proxy Objects', 'Silas Ray'),\n",
        " ('Why is Python So Fast?', 'Eric Chiang'),\n",
        " ('What Problem Are You Trying to Solve, Anyway?', 'Alfred Lee'),\n",
        " ('Speed without drag', 'Saul Diez-Guerra'),\n",
        " ('Video, Python and FFmpeg: What you can do!', 'Dean Silfen'),\n",
        " ('Failing With Grace', \"Sean O'Connor\"),\n",
        " ('Building flexible tools to store sums and report on CSV data',\n",
        "  'Margery Harrison'),\n",
        " ('Service Oriented Flask', 'Randall Degges'),\n",
        " ('Incremental Non-Design: Fighting Entropy like Sisyphus', 'Paul Winkler'),\n",
        " ('Pretty Pictures Please', 'Hannah Aizenmann'),\n",
        " ('Decorators 101: A Gentle Introduction to Functional Programming',\n",
        "  'Jillian Munson'),\n",
        " ('Caching up and down the stack in Django', 'James Meickle'),\n",
        " ('All That Is Solid Melts Into Air - Data and the Law', 'Benjamin Hayes'),\n",
        " ('Enough Machine Learning to Make Hacker News Readable Again',\n",
        "  'Ned Jackson Lovely'),\n",
        " ('Introduction to Profiling', 'Perrin Harkins'),\n",
        " ('Statistics and Linear Regression Models with Python', 'Aaron Hall'),\n",
        " ('How to write actually object-oriented python', 'Per Fagrell'),\n",
        " ('Weather of The Century', 'J. Randall Hunt'),\n",
        " ('Practical Approaches to Problems in the Financial Industry using Python',\n",
        "  'Andy Fundinger'),\n",
        " ('Setting up your Python development environment in IPython',\n",
        "  'Daniel Kronovet'),\n",
        " ('Python and Julia. Why do we need another language?', 'Dwight J. Browne'),\n",
        " (\"Debunking Other People's Data Science\", 'Marianne Bellotti'),\n",
        " ('PyParallel', 'Trent Nelson')]"
       ]
      }
     ],
     "prompt_number": 73
    },
    {
     "cell_type": "markdown",
     "metadata": {},
     "source": [
      "#### Sort by Alphebetical Order of Talks"
     ]
    },
    {
     "cell_type": "code",
     "collapsed": false,
     "input": [
      "sorted(talks, key=lambda k:k[0])"
     ],
     "language": "python",
     "metadata": {},
     "outputs": [
      {
       "metadata": {},
       "output_type": "pyout",
       "prompt_number": 59,
       "text": [
        "[('All That Is Solid Melts Into Air - Data and the Law', 'Benjamin Hayes'),\n",
        " ('Architectural evolution in startups', 'Martin Melin'),\n",
        " ('Aspect Oriented Programming with Proxy Objects', 'Silas Ray'),\n",
        " ('Asyncronous Web Scraping with Asyncio', 'Bugra Akyildiz'),\n",
        " ('Bend Postgres to Your Pythonic Will', 'Wes Chow'),\n",
        " ('Big Data in Biology: A Case Study in Computational Proteomics with Python and MongoDB',\n",
        "  'Himanshu Grover'),\n",
        " ('Building flexible tools to store sums and report on CSV data',\n",
        "  'Margery Harrison'),\n",
        " ('Bytes in the machine: inside the CPython interpreter', 'Allison Kaptur'),\n",
        " ('Caching up and down the stack in Django', 'James Meickle'),\n",
        " ('Canonical sectors and evolutions of US stocks: an application of machine learning in Python',\n",
        "  'RICKY CHACHRA'),\n",
        " ('Customizable and SaaSy REST APIs', 'Juan Gutierrez'),\n",
        " (\"Debunking Other People's Data Science\", 'Marianne Bellotti'),\n",
        " ('Decorators 101: A Gentle Introduction to Functional Programming',\n",
        "  'Jillian Munson'),\n",
        " ('Enough Machine Learning to Make Hacker News Readable Again',\n",
        "  'Ned Jackson Lovely'),\n",
        " ('Failing With Grace', \"Sean O'Connor\"),\n",
        " ('Finding your \"Teaching Stack\": tools for teaching Python from beginners to experts',\n",
        "  'Elliott Hauser'),\n",
        " ('Games with Pygame', 'Patrick Thunstrom'),\n",
        " ('Getting Rich with Comparison Methods', 'Matt Story'),\n",
        " ('Harlem Election Rematch: Money and Demographics in the 13th',\n",
        "  'Haronil Estevez'),\n",
        " ('Helping Python Play Chess', 'Jarret Petrillo'),\n",
        " ('High Technology for High Needs Students: A year of programming in the Bronx',\n",
        "  'Meg Winston Ray'),\n",
        " ('How I Taught a 10-year-old to Love Python and Programming', 'Eric Matzner'),\n",
        " ('How I use Python to Fight human trafficking', 'Eric Schles'),\n",
        " ('How to write actually object-oriented python', 'Per Fagrell'),\n",
        " ('Incremental Non-Design: Fighting Entropy like Sisyphus', 'Paul Winkler'),\n",
        " ('Insight into the anatomy of a huge Python project', 'Thomas Hatch'),\n",
        " ('Introduction to Profiling', 'Perrin Harkins'),\n",
        " ('MEDS: Malware Evolution Discovery System', 'Antonio Cesar Vargas'),\n",
        " ('Monary: Really fast analysis with MongoDB and NumPy', 'Kyle Suarez'),\n",
        " ('One Gestalt to Rule Them All', 'Julie Steele'),\n",
        " ('Practical Approaches to Problems in the Financial Industry using Python',\n",
        "  'Andy Fundinger'),\n",
        " ('Pretty Pictures Please', 'Hannah Aizenmann'),\n",
        " ('Preventing Data Flat-lining', 'Anna Smith'),\n",
        " ('PyParallel', 'Trent Nelson'),\n",
        " ('Python Apps and Docker', 'Matt Wright'),\n",
        " ('Python Begets Python:  Using BattleSchool, based on Ansible, plus Docker to Set up and Produce Working Software Faster on your Machine (Sat. 4.15pm)',\n",
        "  'Anne Moroney'),\n",
        " ('Python Wats: Uncovering Odd Behavior', 'Amy Hanlon'),\n",
        " ('Python and Julia. Why do we need another language?', 'Dwight J. Browne'),\n",
        " ('Python as uniting programming language across computer graphics packages and 3D automated manufacturing',\n",
        "  'Rainer Schmidt'),\n",
        " ('Python for Curious People who Like Natural Language a Lot', 'Jackie Cohen'),\n",
        " ('Python in the Video Game Industry \u2013 Best Practices and Finding  Cheaters',\n",
        "  'Steve Lang'),\n",
        " ('SQLAlchemy and Race Conditions! Implementing `get_one_or_create()`',\n",
        "  'Erik Taubeneck'),\n",
        " ('Service Oriented Flask', 'Randall Degges'),\n",
        " ('Setting up your Python development environment in IPython',\n",
        "  'Daniel Kronovet'),\n",
        " ('Sparkling Pandas - using Apache Spark to scale Pandas', 'Holden Karau'),\n",
        " ('Speed without drag', 'Saul Diez-Guerra'),\n",
        " ('Statistics and Linear Regression Models with Python', 'Aaron Hall'),\n",
        " ('TSAR (the TimeSeries AggregatoR), - how to count tens of billions of daily events in real time using open source technologies',\n",
        "  'Anirudh Todi'),\n",
        " ('Using Python with an Ordered Key-Value Store', 'Stephen Pimentel'),\n",
        " ('Video, Python and FFmpeg: What you can do!', 'Dean Silfen'),\n",
        " ('Weather of The Century', 'J. Randall Hunt'),\n",
        " ('Web Scraping is BS', 'John Downs'),\n",
        " ('What Problem Are You Trying to Solve, Anyway?', 'Alfred Lee'),\n",
        " ('When should I call myself as an expert in Python?', 'akanksha shrivastava'),\n",
        " ('Why is Python So Fast?', 'Eric Chiang'),\n",
        " ('you know nothing, server.', 'Jameson Lee')]"
       ]
      }
     ],
     "prompt_number": 59
    },
    {
     "cell_type": "markdown",
     "metadata": {},
     "source": [
      "#### Sort by Alphabetical Orders of Presenters"
     ]
    },
    {
     "cell_type": "code",
     "collapsed": false,
     "input": [
      "sorted(talks, key=lambda k:k[1])"
     ],
     "language": "python",
     "metadata": {},
     "outputs": [
      {
       "metadata": {},
       "output_type": "pyout",
       "prompt_number": 60,
       "text": [
        "[('Statistics and Linear Regression Models with Python', 'Aaron Hall'),\n",
        " ('What Problem Are You Trying to Solve, Anyway?', 'Alfred Lee'),\n",
        " ('Bytes in the machine: inside the CPython interpreter', 'Allison Kaptur'),\n",
        " ('Python Wats: Uncovering Odd Behavior', 'Amy Hanlon'),\n",
        " ('Practical Approaches to Problems in the Financial Industry using Python',\n",
        "  'Andy Fundinger'),\n",
        " ('TSAR (the TimeSeries AggregatoR), - how to count tens of billions of daily events in real time using open source technologies',\n",
        "  'Anirudh Todi'),\n",
        " ('Preventing Data Flat-lining', 'Anna Smith'),\n",
        " ('Python Begets Python:  Using BattleSchool, based on Ansible, plus Docker to Set up and Produce Working Software Faster on your Machine (Sat. 4.15pm)',\n",
        "  'Anne Moroney'),\n",
        " ('MEDS: Malware Evolution Discovery System', 'Antonio Cesar Vargas'),\n",
        " ('All That Is Solid Melts Into Air - Data and the Law', 'Benjamin Hayes'),\n",
        " ('Asyncronous Web Scraping with Asyncio', 'Bugra Akyildiz'),\n",
        " ('Setting up your Python development environment in IPython',\n",
        "  'Daniel Kronovet'),\n",
        " ('Video, Python and FFmpeg: What you can do!', 'Dean Silfen'),\n",
        " ('Python and Julia. Why do we need another language?', 'Dwight J. Browne'),\n",
        " ('Finding your \"Teaching Stack\": tools for teaching Python from beginners to experts',\n",
        "  'Elliott Hauser'),\n",
        " ('Why is Python So Fast?', 'Eric Chiang'),\n",
        " ('How I Taught a 10-year-old to Love Python and Programming', 'Eric Matzner'),\n",
        " ('How I use Python to Fight human trafficking', 'Eric Schles'),\n",
        " ('SQLAlchemy and Race Conditions! Implementing `get_one_or_create()`',\n",
        "  'Erik Taubeneck'),\n",
        " ('Pretty Pictures Please', 'Hannah Aizenmann'),\n",
        " ('Harlem Election Rematch: Money and Demographics in the 13th',\n",
        "  'Haronil Estevez'),\n",
        " ('Big Data in Biology: A Case Study in Computational Proteomics with Python and MongoDB',\n",
        "  'Himanshu Grover'),\n",
        " ('Sparkling Pandas - using Apache Spark to scale Pandas', 'Holden Karau'),\n",
        " ('Weather of The Century', 'J. Randall Hunt'),\n",
        " ('Python for Curious People who Like Natural Language a Lot', 'Jackie Cohen'),\n",
        " ('Caching up and down the stack in Django', 'James Meickle'),\n",
        " ('you know nothing, server.', 'Jameson Lee'),\n",
        " ('Helping Python Play Chess', 'Jarret Petrillo'),\n",
        " ('Decorators 101: A Gentle Introduction to Functional Programming',\n",
        "  'Jillian Munson'),\n",
        " ('Web Scraping is BS', 'John Downs'),\n",
        " ('Customizable and SaaSy REST APIs', 'Juan Gutierrez'),\n",
        " ('One Gestalt to Rule Them All', 'Julie Steele'),\n",
        " ('Monary: Really fast analysis with MongoDB and NumPy', 'Kyle Suarez'),\n",
        " ('Building flexible tools to store sums and report on CSV data',\n",
        "  'Margery Harrison'),\n",
        " (\"Debunking Other People's Data Science\", 'Marianne Bellotti'),\n",
        " ('Architectural evolution in startups', 'Martin Melin'),\n",
        " ('Getting Rich with Comparison Methods', 'Matt Story'),\n",
        " ('Python Apps and Docker', 'Matt Wright'),\n",
        " ('High Technology for High Needs Students: A year of programming in the Bronx',\n",
        "  'Meg Winston Ray'),\n",
        " ('Enough Machine Learning to Make Hacker News Readable Again',\n",
        "  'Ned Jackson Lovely'),\n",
        " ('Games with Pygame', 'Patrick Thunstrom'),\n",
        " ('Incremental Non-Design: Fighting Entropy like Sisyphus', 'Paul Winkler'),\n",
        " ('How to write actually object-oriented python', 'Per Fagrell'),\n",
        " ('Introduction to Profiling', 'Perrin Harkins'),\n",
        " ('Canonical sectors and evolutions of US stocks: an application of machine learning in Python',\n",
        "  'RICKY CHACHRA'),\n",
        " ('Python as uniting programming language across computer graphics packages and 3D automated manufacturing',\n",
        "  'Rainer Schmidt'),\n",
        " ('Service Oriented Flask', 'Randall Degges'),\n",
        " ('Speed without drag', 'Saul Diez-Guerra'),\n",
        " ('Failing With Grace', \"Sean O'Connor\"),\n",
        " ('Aspect Oriented Programming with Proxy Objects', 'Silas Ray'),\n",
        " ('Using Python with an Ordered Key-Value Store', 'Stephen Pimentel'),\n",
        " ('Python in the Video Game Industry \u2013 Best Practices and Finding  Cheaters',\n",
        "  'Steve Lang'),\n",
        " ('Insight into the anatomy of a huge Python project', 'Thomas Hatch'),\n",
        " ('PyParallel', 'Trent Nelson'),\n",
        " ('Bend Postgres to Your Pythonic Will', 'Wes Chow'),\n",
        " ('When should I call myself as an expert in Python?', 'akanksha shrivastava')]"
       ]
      }
     ],
     "prompt_number": 60
    },
    {
     "cell_type": "markdown",
     "metadata": {},
     "source": [
      "##### Keynotes are also similar"
     ]
    },
    {
     "cell_type": "code",
     "collapsed": false,
     "input": [
      "keynotes = []\n",
      "for ii in pp('.slot-keynote'):\n",
      "    tup = str(ii.text_content()).strip().split('(')\n",
      "    if len(tup) == 2:\n",
      "        keynotes.append((tup[0], tup[1].strip(')')))"
     ],
     "language": "python",
     "metadata": {},
     "outputs": [],
     "prompt_number": 69
    },
    {
     "cell_type": "code",
     "collapsed": false,
     "input": [
      "keynotes"
     ],
     "language": "python",
     "metadata": {},
     "outputs": [
      {
       "metadata": {},
       "output_type": "pyout",
       "prompt_number": 70,
       "text": [
        "[('Opening Statements & Keynote ', 'Hilary Mason'),\n",
        " ('Closing Statements & Keynote ', 'Brandon Rhodes')]"
       ]
      }
     ],
     "prompt_number": 70
    },
    {
     "cell_type": "code",
     "collapsed": false,
     "input": [],
     "language": "python",
     "metadata": {},
     "outputs": []
    }
   ],
   "metadata": {}
  }
 ]
}