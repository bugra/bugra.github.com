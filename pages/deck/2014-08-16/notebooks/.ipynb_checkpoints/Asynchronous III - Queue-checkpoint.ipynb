{
 "metadata": {
  "name": "",
  "signature": "sha256:b6ea5dece5743cd226df10a4ff6db45efe7ec9555cb3e256a8f0281ed665d463"
 },
 "nbformat": 3,
 "nbformat_minor": 0,
 "worksheets": [
  {
   "cells": [
    {
     "cell_type": "code",
     "collapsed": false,
     "input": [
      "import asyncio"
     ],
     "language": "python",
     "metadata": {},
     "outputs": [],
     "prompt_number": 1
    },
    {
     "cell_type": "code",
     "collapsed": false,
     "input": [
      "q = asyncio.Queue(maxsize=0)\n",
      "\n",
      "@asyncio.coroutine\n",
      "def producer(number=10):\n",
      "    \"\"\"Generate numbers and put into a queue\n",
      "    \"\"\"\n",
      "    for elem in range(number):\n",
      "        print(elem)\n",
      "        yield from q.put(elem)\n",
      "\n",
      "@asyncio.coroutine\n",
      "def consumer():\n",
      "    \"\"\" Consume the queue, whatever available in it\n",
      "    \"\"\"\n",
      "    while True:\n",
      "        elems = yield from q.get()\n",
      "        # Comment out the next section if you \n",
      "        # want to stop queue yourself\n",
      "        if elems == 9: \n",
      "            break\n",
      "\n",
      "queue_loop = asyncio.get_event_loop()\n",
      "queue_loop.run_until_complete(producer())\n",
      "queue_loop.run_until_complete(consumer())\n",
      "#queue_loop.run_forever()"
     ],
     "language": "python",
     "metadata": {},
     "outputs": [
      {
       "output_type": "stream",
       "stream": "stdout",
       "text": [
        "0\n",
        "1\n",
        "2\n",
        "3\n",
        "4\n",
        "5\n",
        "6\n",
        "7\n",
        "8\n",
        "9\n"
       ]
      }
     ],
     "prompt_number": 2
    },
    {
     "cell_type": "code",
     "collapsed": false,
     "input": [],
     "language": "python",
     "metadata": {},
     "outputs": []
    }
   ],
   "metadata": {}
  }
 ]
}