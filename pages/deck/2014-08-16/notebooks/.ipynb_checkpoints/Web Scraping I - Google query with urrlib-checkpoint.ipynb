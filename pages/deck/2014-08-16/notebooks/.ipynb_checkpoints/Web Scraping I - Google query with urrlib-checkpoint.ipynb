{
 "metadata": {
  "name": "",
  "signature": "sha256:7adf03f4144f60c37da9edf8cccf93fb9b4291af3c3cc3176ca379ea87b7f49a"
 },
 "nbformat": 3,
 "nbformat_minor": 0,
 "worksheets": [
  {
   "cells": [
    {
     "cell_type": "code",
     "collapsed": false,
     "input": [
      "import urllib.request\n",
      "import urllib.parse\n",
      "import json"
     ],
     "language": "python",
     "metadata": {},
     "outputs": [],
     "prompt_number": 1
    },
    {
     "cell_type": "code",
     "collapsed": false,
     "input": [
      "def query_google(query):\n",
      "  query = urllib.parse.urlencode({'q': query})\n",
      "  url = 'http://ajax.googleapis.com/ajax/services/search/web?v=1.0&{query}'.format(query=query)\n",
      "  search_response = urllib.request.urlopen(url)\n",
      "  search_results = search_response.read().decode(\"utf8\")\n",
      "  results = json.loads(search_results)\n",
      "  data = results['responseData']\n",
      "  print('Total results: {}'.format(data['cursor']['estimatedResultCount']))\n",
      "  hits = data['results']\n",
      "  print('Top {} hits:'.format(len(hits)))\n",
      "  for ii, hit in enumerate(hits): \n",
      "    print('\\t{}. {}'.format(ii + 1, hit['url']))\n",
      "  print('For more results: {}'.format(data['cursor']['moreResultsUrl']))\n",
      "  return data\n",
      "\n",
      "data = query_google('pygotham')"
     ],
     "language": "python",
     "metadata": {},
     "outputs": [
      {
       "output_type": "stream",
       "stream": "stdout",
       "text": [
        "Total results: 558\n",
        "Top 4 hits:\n",
        "\t1. http://pygotham.org/\n",
        "\t2. http://pygotham.org/talks/call-for-proposals\n",
        "\t3. https://twitter.com/PyGotham\n",
        "\t4. https://github.com/enthought/pygotham\n",
        "For more results, see http://www.google.com/search?oe=utf8&ie=utf8&source=uds&start=0&hl=en&q=pygotham\n"
       ]
      }
     ],
     "prompt_number": 6
    },
    {
     "cell_type": "code",
     "collapsed": false,
     "input": [
      "data"
     ],
     "language": "python",
     "metadata": {},
     "outputs": [
      {
       "metadata": {},
       "output_type": "pyout",
       "prompt_number": 7,
       "text": [
        "{'results': [{'content': 'The talk schedule for <b>PyGotham</b> 2014 is now live! ... Prospectus page is now \\navailable with details for anyone interested in sponsoring <b>PyGotham</b> 2014.',\n",
        "   'GsearchResultClass': 'GwebSearch',\n",
        "   'title': '<b>PyGotham</b> 2014',\n",
        "   'visibleUrl': 'pygotham.org',\n",
        "   'cacheUrl': 'http://www.google.com/search?q=cache:Pg_v-9YfQiMJ:pygotham.org',\n",
        "   'unescapedUrl': 'http://pygotham.org/',\n",
        "   'url': 'http://pygotham.org/',\n",
        "   'titleNoFormatting': 'PyGotham 2014'},\n",
        "  {'content': 'The Call for Proposals ends on June 27, \\n2014. Make sure you submit your\\xa0...',\n",
        "   'GsearchResultClass': 'GwebSearch',\n",
        "   'title': 'Call for Proposals - <b>PyGotham</b> 2014',\n",
        "   'visibleUrl': 'pygotham.org',\n",
        "   'cacheUrl': 'http://www.google.com/search?q=cache:yswnKKkmNXoJ:pygotham.org',\n",
        "   'unescapedUrl': 'http://pygotham.org/talks/call-for-proposals',\n",
        "   'url': 'http://pygotham.org/talks/call-for-proposals',\n",
        "   'titleNoFormatting': 'Call for Proposals - PyGotham 2014'},\n",
        "  {'content': 'The latest from <b>PyGotham</b> (@<b>PyGotham</b>). <b>PyGotham</b> is an eclectic Py-centric \\nconference covering many topics. There&#39;s a diverse invited speaker list, and \\nsome\\xa0...',\n",
        "   'GsearchResultClass': 'GwebSearch',\n",
        "   'title': '<b>PyGotham</b> (<b>PyGotham</b>) on Twitter',\n",
        "   'visibleUrl': 'twitter.com',\n",
        "   'cacheUrl': 'http://www.google.com/search?q=cache:S7mILYN71tMJ:twitter.com',\n",
        "   'unescapedUrl': 'https://twitter.com/PyGotham',\n",
        "   'url': 'https://twitter.com/PyGotham',\n",
        "   'titleNoFormatting': 'PyGotham (PyGotham) on Twitter'},\n",
        "  {'content': 'Material from the 2012 <b>PyGotham</b> Conference. Contribute to <b>pygotham</b> \\ndevelopment by creating an account on GitHub.',\n",
        "   'GsearchResultClass': 'GwebSearch',\n",
        "   'title': 'enthought/<b>pygotham</b> \u00b7 GitHub',\n",
        "   'visibleUrl': 'github.com',\n",
        "   'cacheUrl': 'http://www.google.com/search?q=cache:RwMlxceXkhgJ:github.com',\n",
        "   'unescapedUrl': 'https://github.com/enthought/pygotham',\n",
        "   'url': 'https://github.com/enthought/pygotham',\n",
        "   'titleNoFormatting': 'enthought/pygotham \u00b7 GitHub'}],\n",
        " 'cursor': {'moreResultsUrl': 'http://www.google.com/search?oe=utf8&ie=utf8&source=uds&start=0&hl=en&q=pygotham',\n",
        "  'estimatedResultCount': '558',\n",
        "  'currentPageIndex': 0,\n",
        "  'resultCount': '558',\n",
        "  'pages': [{'start': '0', 'label': 1},\n",
        "   {'start': '4', 'label': 2},\n",
        "   {'start': '8', 'label': 3},\n",
        "   {'start': '12', 'label': 4},\n",
        "   {'start': '16', 'label': 5},\n",
        "   {'start': '20', 'label': 6},\n",
        "   {'start': '24', 'label': 7},\n",
        "   {'start': '28', 'label': 8}],\n",
        "  'searchResultTime': '0.33'}}"
       ]
      }
     ],
     "prompt_number": 7
    },
    {
     "cell_type": "code",
     "collapsed": false,
     "input": [],
     "language": "python",
     "metadata": {},
     "outputs": []
    }
   ],
   "metadata": {}
  }
 ]
}